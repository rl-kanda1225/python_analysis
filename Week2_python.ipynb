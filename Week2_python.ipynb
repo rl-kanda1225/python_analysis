{
 "cells": [
  {
   "cell_type": "code",
   "execution_count": 32,
   "metadata": {},
   "outputs": [
    {
     "name": "stdout",
     "output_type": "stream",
     "text": [
      "Guess a number between 1~100\n",
      "50\n",
      "No,Guess Higer\n",
      "Guess a number between 1~100\n",
      "80\n",
      "No,Guess Lower\n",
      "Guess a number between 1~100\n",
      "75\n",
      "No,Guess Lower\n",
      "Guess a number between 1~100\n",
      "60\n",
      "No,Guess Higer\n",
      "Guess a number between 1~100\n",
      "61\n",
      "No,Guess Higer\n",
      "Guess a number between 1~100\n",
      "62\n",
      "No,Guess Higer\n",
      "Guess a number between 1~100\n",
      "63\n",
      "You Win\n"
     ]
    }
   ],
   "source": [
    "# 第一題【猜數字遊戲】：電腦由 1 到 100 「想」一個數字。你開始猜電腦想的數字, 太大或大小電腦會告訴你, 直到猜對。\n",
    "import random\n",
    "gusTaken=0\n",
    "number = random.randint(1,100)\n",
    "while gusTaken<26:\n",
    "    print('Guess a number between 1~100')\n",
    "    gus=input()\n",
    "    gus=int(gus)\n",
    "    gusTaken=gusTaken + 1\n",
    "    if gus<number:\n",
    "        print('No,Guess Higer')\n",
    "    if gus>number:\n",
    "        print('No,Guess Lower')\n",
    "    if gus==number:\n",
    "        print('You Win')\n",
    "        break;"
   ]
  },
  {
   "cell_type": "code",
   "execution_count": null,
   "metadata": {
    "collapsed": true
   },
   "outputs": [],
   "source": [
    "# 第三題【寫個函數讓字串倒過來排】\n",
    "reverse='hello'\n",
    "print(reverse[::-1])"
   ]
  },
  {
   "cell_type": "code",
   "execution_count": 8,
   "metadata": {},
   "outputs": [
    {
     "name": "stdout",
     "output_type": "stream",
     "text": [
      "Give me a number between 1 to 10 >>2\n",
      " *\n",
      "***\n"
     ]
    }
   ],
   "source": [
    "# 挑戰題二：寫個 tree 函數, 給一個數字就會畫出如下的畫面。EX：tree(6)，2number+1\n",
    "def tree(gus):\n",
    "    num=1\n",
    "    while(gus !=0):\n",
    "        print(' '*(gus-1)+'*'*num)\n",
    "        gus=gus-1\n",
    "        num=num+2\n",
    "gus=int(input(\"Give me a number between 1 to 10 >>\"))\n",
    "tree(gus)"
   ]
  },
  {
   "cell_type": "code",
   "execution_count": null,
   "metadata": {
    "collapsed": true
   },
   "outputs": [],
   "source": [
    "# 挑戰題二：寫個 tree 函數, 給一個數字就會畫出如下的畫面。EX：tree(6)，2number+1，**同儕互評看到的正解**\n",
    "def tree(num):#num視為讓User自己輸入的值\n",
    "    i = 1\n",
    "    while(num != 0):\n",
    "        print(' '*(num-1)+'*'*i)#先印出來的值會在下面，他是新印出最底層的*，再慢慢往上印\n",
    "        num -= 1\n",
    "        i += 2#因為每層都是相差2個*，所以用-2\n",
    "\n",
    "num = int(input(\"number: \"))#最後讓User可以自行輸入\n",
    "tree(num)\n",
    "\n"
   ]
  }
 ],
 "metadata": {
  "kernelspec": {
   "display_name": "Python 3",
   "language": "python",
   "name": "python3"
  },
  "language_info": {
   "codemirror_mode": {
    "name": "ipython",
    "version": 3
   },
   "file_extension": ".py",
   "mimetype": "text/x-python",
   "name": "python",
   "nbconvert_exporter": "python",
   "pygments_lexer": "ipython3",
   "version": "3.6.3"
  }
 },
 "nbformat": 4,
 "nbformat_minor": 2
}
