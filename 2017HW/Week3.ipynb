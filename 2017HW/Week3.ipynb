{
 "cells": [
  {
   "cell_type": "code",
   "execution_count": 1,
   "metadata": {},
   "outputs": [
    {
     "name": "stdout",
     "output_type": "stream",
     "text": [
      "[[0 1 1]\n",
      " [1 1 1]]\n"
     ]
    }
   ],
   "source": [
    "import numpy as np\n",
    "\n",
    "m = np.array([[0,1,10],[2,6,7]])\n",
    "\n",
    "i = 0\n",
    "j = 0\n",
    "\n",
    "for a in m:\n",
    "    for b in a:\n",
    "        if b >= 1:\n",
    "            m[i,j] = 1\n",
    "        else:\n",
    "            m[i,j] = 0\n",
    "\n",
    "        j+= 1\n",
    "        if j == len(a):\n",
    "            j =0\n",
    "    i+=1\n",
    "print(m)\n",
    "\n"
   ]
  },
  {
   "cell_type": "code",
   "execution_count": 2,
   "metadata": {},
   "outputs": [
    {
     "name": "stdout",
     "output_type": "stream",
     "text": [
      "[ 29.45  52.9   34.3   45.8   65.75  70.15  81.5   60.85  45.05  62.65\n",
      "  62.6   58.3   56.4   56.05  39.05  48.75  29.5   62.25  48.3   33.2   60.3\n",
      "  68.25  50.05  41.8   30.55  72.4   63.2   28.7   35.5   57.1 ]\n"
     ]
    }
   ],
   "source": [
    "import random \n",
    "import numpy as np\n",
    "\n",
    "c1 = [random.randint(0,100) for i in range(50)]\n",
    "c2 = [random.randint(0,100) for i in range(50)]\n",
    "c3 = [random.randint(0,100) for i in range(50)]\n",
    "\n",
    "a1 = np.array(c1).reshape(10,5)\n",
    "a2 = np.array(c2).reshape(10,5)\n",
    "a3 = np.array(c3).reshape(10,5)\n",
    "\n",
    "weights=[0.25,0.25,0.25,0.15,0.10]\n",
    "g1 = np.dot(a1,weights)\n",
    "g2 = np.dot(a2,weights)\n",
    "g3 = np.dot(a3,weights)\n",
    "\n",
    "total1 = np.append(g1,g2)\n",
    "total2 = np.append(total1,g3)\n",
    "print(total2)"
   ]
  },
  {
   "cell_type": "code",
   "execution_count": 3,
   "metadata": {
    "collapsed": true
   },
   "outputs": [],
   "source": [
    "import random\n",
    "import numpy as np\n",
    "\n",
    "breakfast_list = ['古早味', '德合香', '布朗奇早餐', '星巴克', '小貓咪', '傳香飯糰', '米塔', '麥當勞', '摩斯', '7-11', '全家']\n",
    "lunch_and_dinner_list = ['小公寓', '波波恰恰', '湯饌', '享窩咖啡', '湯包', '殺人魔王', '呷麵騎士', '提洛斯', '蝴蝶漾', '東京小城', '金鰭', '樂山', 'My麵屋',\n",
    "                         '李氏餐酒館', '里克', '水煎包', '憩賢樓', '高句麗', '魯智深', '敏忠', '大正亭', '阿里郎', '鬼匠', 'Juicy Bun', '滇味廚房']\n",
    "high_price_list = ['星巴克', '摩斯', '小公寓', '享窩咖啡', '金鰭', '李氏餐酒館', '里克', 'Juicy Bun', '滇味廚房']\n",
    "snack_list = ['豆花', '政大烤場', '丐幫滷味', '鹹水雞']\n",
    "\n",
    "al = len(breakfast_list)\n",
    "bl = len(lunch_and_dinner_list)\n",
    "cl = len(high_price_list)\n",
    "dl = len(snack_list)\n",
    "\n",
    "\n",
    "\n",
    "def eat():\n",
    "    b = random.randint(0, al - 1)\n",
    "    l = random.randint(0, bl - 1)\n",
    "    d = random.randint(0, bl - 1)\n",
    "    s = random.randint(0, dl - 1)\n",
    "\n",
    "    '''print(b,l,d,s)\n",
    "\n",
    "    print(breakfast_list[b])\n",
    "    print(lunch_and_dinner_list[l])\n",
    "    print(lunch_and_dinner_list[d])\n",
    "    print(snack_list[s])'''\n",
    "\n",
    "    if (breakfast_list[b] in high_price_list) & (lunch_and_dinner_list[l] in high_price_list):\n",
    "        return eat()\n",
    "\n",
    "    if (breakfast_list[b] in high_price_list) & (lunch_and_dinner_list[d] in high_price_list):\n",
    "        return eat()\n",
    "\n",
    "    if (lunch_and_dinner_list[l] in high_price_list) & (lunch_and_dinner_list[d] in high_price_list):\n",
    "        return eat()\n",
    "\n",
    "    if (lunch_and_dinner_list[l] in high_price_list) & (lunch_and_dinner_list[d] in high_price_list) & \\\n",
    "            (breakfast_list[b] in high_price_list):\n",
    "        return eat()\n",
    "\n",
    "    if (l == d):\n",
    "        return eat()\n",
    "\n",
    "    print(\"早餐:\" + breakfast_list[b])\n",
    "    print(\"午餐:\" + lunch_and_dinner_list[l])\n",
    "    print(\"晚餐:\" + lunch_and_dinner_list[d])\n",
    "\n",
    "    if (lunch_and_dinner_list[l] in high_price_list) | (lunch_and_dinner_list[d] in high_price_list) | \\\n",
    "            (breakfast_list[b] in high_price_list):\n",
    "        print(\"\")\n",
    "    else:\n",
    "        print(\"消夜:\" + snack_list[s])\n",
    "\n"
   ]
  },
  {
   "cell_type": "code",
   "execution_count": 134,
   "metadata": {},
   "outputs": [
    {
     "name": "stdout",
     "output_type": "stream",
     "text": [
      "早餐:7-11\n",
      "午餐:滇味廚房\n",
      "晚餐:提洛斯\n",
      "\n"
     ]
    }
   ],
   "source": [
    "eat()\n"
   ]
  },
  {
   "cell_type": "code",
   "execution_count": null,
   "metadata": {
    "collapsed": true
   },
   "outputs": [],
   "source": []
  },
  {
   "cell_type": "code",
   "execution_count": null,
   "metadata": {
    "collapsed": true
   },
   "outputs": [],
   "source": []
  }
 ],
 "metadata": {
  "kernelspec": {
   "display_name": "Python 3",
   "language": "python",
   "name": "python3"
  },
  "language_info": {
   "codemirror_mode": {
    "name": "ipython",
    "version": 3
   },
   "file_extension": ".py",
   "mimetype": "text/x-python",
   "name": "python",
   "nbconvert_exporter": "python",
   "pygments_lexer": "ipython3",
   "version": "3.6.3"
  }
 },
 "nbformat": 4,
 "nbformat_minor": 1
}
