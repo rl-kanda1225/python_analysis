{
 "cells": [
  {
   "cell_type": "code",
   "execution_count": 5,
   "metadata": {},
   "outputs": [
    {
     "name": "stdout",
     "output_type": "stream",
     "text": [
      "你好Emily,從基隆來辛苦你了\n",
      "你好Emily,從基隆來辛苦你了\n"
     ]
    },
    {
     "data": {
      "text/plain": [
       "100"
      ]
     },
     "execution_count": 5,
     "metadata": {},
     "output_type": "execute_result"
    }
   ],
   "source": [
    "#第一堂：字串格式化\n",
    "name=\"Emily\"\n",
    "place=\"基隆\"\n",
    "message=\"你好\"+name+\",從\"+place+\"來辛苦你了\"\n",
    "print(message)\n",
    "\n",
    "message=\"你好{},從{}來辛苦你了\".format(name,place)\n",
    "print(message)\n",
    "\n",
    "#第二堂：函數\n",
    "def square(x):#定義square這個函數，所以之後要用都要用square()去呼叫使用它\n",
    "\treturn x**2\n",
    "#舉例說明函數怎麼呼叫\n",
    "square(3)\n",
    "square(10)"
   ]
  },
  {
   "cell_type": "code",
   "execution_count": 10,
   "metadata": {},
   "outputs": [
    {
     "name": "stdout",
     "output_type": "stream",
     "text": [
      "9\n",
      "100\n",
      "10000\n"
     ]
    },
    {
     "data": {
      "text/plain": [
       "'你好Emily Chou,從Taipei來辛苦你了'"
      ]
     },
     "execution_count": 10,
     "metadata": {},
     "output_type": "execute_result"
    }
   ],
   "source": [
    "#平方函數換句話說：\n",
    "def 平方(甲):\n",
    "\tprint(甲**2)\n",
    "平方(3)\n",
    "平方(10)\n",
    "Emily=平方(100)\n",
    "Emily\n",
    "\n",
    "#進階定義：\n",
    "def say_hi(name,place):\n",
    "\tmessage=\"你好{},從{}來辛苦你了\".format(name,place)\n",
    "\treturn message\n",
    "#如何使用\n",
    "say_hi(\"Emily Chou\",\"Taipei\")"
   ]
  },
  {
   "cell_type": "code",
   "execution_count": 12,
   "metadata": {},
   "outputs": [
    {
     "name": "stdout",
     "output_type": "stream",
     "text": [
      "[0, 7, 1, 2, 0, 4, 1, 8]\n",
      "1\n",
      "2\n",
      "[7, 1]\n",
      "[1, 2, 0, 4, 1, 8]\n",
      "[0, 7, 1]\n",
      "[0, 7, 1, 2, 0, 4, 1, 8]\n",
      "8\n",
      "[1, 8]\n"
     ]
    }
   ],
   "source": [
    "#List 的切割技術\n",
    "#取出想要的元素\n",
    "l=[0,7,1,2,0,4,1,8]\n",
    "l\n",
    "print(l)\n",
    "print(l[2])\n",
    "print(l[3])\n",
    "\n",
    "#list 華麗的切割技巧：事實上切分點是在 list 元素和元素之間, 而且反過來算也可以哦。\n",
    "print(l[1:3])\n",
    "print(l[2:])\n",
    "print(l[:3])\n",
    "print(l[:])\n",
    "print(l[-1])\n",
    "print(l[-2:])"
   ]
  },
  {
   "cell_type": "code",
   "execution_count": 14,
   "metadata": {},
   "outputs": [
    {
     "name": "stdout",
     "output_type": "stream",
     "text": [
      "M-I\n",
      "E\n",
      "mily Chou\n"
     ]
    }
   ],
   "source": [
    "#字串很像 list\n",
    "ym=\"YM-ITBD\"\n",
    "ym[1:4]\n",
    "print(ym[1:4])\n",
    "name=\"Emily Chou\"\n",
    "name[0]\n",
    "print(name[0])\n",
    "name[1:]\n",
    "print(name[1:])"
   ]
  },
  {
   "cell_type": "code",
   "execution_count": 1,
   "metadata": {},
   "outputs": [
    {
     "name": "stdout",
     "output_type": "stream",
     "text": [
      "1\n",
      "2\n",
      "3\n",
      "貓貓\n",
      "狗狗\n",
      "豬豬\n",
      "2\n",
      "4\n",
      "6\n",
      "8\n",
      "10\n",
      "12\n",
      "14\n",
      "16\n",
      "18\n",
      "20\n",
      "*\n",
      "**\n",
      "***\n",
      "****\n",
      "*****\n",
      "******\n",
      "*******\n",
      "********\n",
      "*********\n",
      "**********\n"
     ]
    }
   ],
   "source": [
    "L=[1,2,3]\n",
    "for i in L:\n",
    "    print(i)\n",
    "\n",
    "L=[\"貓貓\",\"狗狗\",\"豬豬\"]\n",
    "for i in L:\n",
    "    print(i)\n",
    "\n",
    "for i in range(1,11):\n",
    "    print(i*2)\n",
    "\n",
    "for i in range(1,11):\n",
    "    print(\"*\"*i)"
   ]
  },
  {
   "cell_type": "code",
   "execution_count": 2,
   "metadata": {},
   "outputs": [
    {
     "data": {
      "text/plain": [
       "True"
      ]
     },
     "execution_count": 2,
     "metadata": {},
     "output_type": "execute_result"
    }
   ],
   "source": [
    "#0210字串\n",
    "keyword=\"悲傷\"\n",
    "message=\"我今天覺得很悲傷\"\n",
    "keyword in message#字串有在裡面就會顯示True\n",
    "\n"
   ]
  },
  {
   "cell_type": "code",
   "execution_count": 3,
   "metadata": {},
   "outputs": [
    {
     "data": {
      "text/plain": [
       "False"
      ]
     },
     "execution_count": 3,
     "metadata": {},
     "output_type": "execute_result"
    }
   ],
   "source": [
    "message=\"我今天超開心!\"\n",
    "keyword in message#字串不在裡面會顯示False"
   ]
  },
  {
   "cell_type": "code",
   "execution_count": 4,
   "metadata": {},
   "outputs": [
    {
     "data": {
      "text/plain": [
       "True"
      ]
     },
     "execution_count": 4,
     "metadata": {},
     "output_type": "execute_result"
    }
   ],
   "source": [
    "#串列\n",
    "L=[34,23,12,88,95,74]\n",
    "29 in L\n",
    "88 in L"
   ]
  },
  {
   "cell_type": "code",
   "execution_count": 5,
   "metadata": {},
   "outputs": [
    {
     "name": "stdout",
     "output_type": "stream",
     "text": [
      "OK\n",
      ">> 好悲傷\n",
      "拍拍\n",
      ">> 開心開心\n",
      "很棒喔\n"
     ]
    }
   ],
   "source": [
    "#0211 if條件判斷\n",
    "a=80\n",
    "if a>7:\n",
    "    print(\"OK\")\n",
    "\n",
    "message =input(\">> \")#第一次輸入執行這裡\n",
    "if (\"悲傷\" in message):\n",
    "    print(\"拍拍\")\n",
    "\n",
    "message=input(\">> \")#第二次輸入執行這裡\n",
    "if(\"悲傷\" in message):\n",
    "    print(\"拍拍\")\n",
    "elif(\"開心\" in message):\n",
    "    print(\"很棒喔\")\n",
    "else:\n",
    "    print(\"我知道了\")"
   ]
  },
  {
   "cell_type": "code",
   "execution_count": 6,
   "metadata": {},
   "outputs": [
    {
     "name": "stdout",
     "output_type": "stream",
     "text": [
      "Populating the interactive namespace from numpy and matplotlib\n",
      "         *\n",
      "                       *\n",
      "               *\n",
      "                       *\n",
      "                                        *\n",
      "                                                 *\n",
      "   *\n",
      "                        *\n",
      "                             *\n",
      "                                         *\n"
     ]
    }
   ],
   "source": [
    "#0212亂數好好玩\n",
    "%pylab inline\n",
    "\n",
    "randint(3,21)\n",
    "for i in range(10):\n",
    "    k=randint(1,50)\n",
    "    print(\" \"*k +\"*\")\n",
    "\n"
   ]
  },
  {
   "cell_type": "code",
   "execution_count": 7,
   "metadata": {},
   "outputs": [
    {
     "name": "stdout",
     "output_type": "stream",
     "text": [
      "1, 6, 8, 2, 8, 2, 3, 1, 4, 4, 8, 7, 3, 8, 8, 5, 5, 9, 5, 3, 4, 9, 1, 1, 5, 1, 4, 6, 1, 9, 6, 9, 5, 5, 2, 7, 8, 1, 9, 5, 4, 9, 7, 5, 7, 2, 9, 1, 7, 3, "
     ]
    }
   ],
   "source": [
    "#0301 Python正規套件讀入法\n",
    "from numpy import *\n",
    "randint(1,10)\n",
    "\n",
    "for i in range(50):\n",
    "    print(randint(1,10),end=\", \")\n"
   ]
  },
  {
   "cell_type": "code",
   "execution_count": 8,
   "metadata": {},
   "outputs": [
    {
     "name": "stdout",
     "output_type": "stream",
     "text": [
      "7, 3, 7, 9, 5, 5, 8, 2, 2, 4, 1, 3, 5, 4, 4, 1, 8, 8, 6, 9, 2, 2, 1, 1, 7, 5, 9, 2, 7, 5, 7, 3, 2, 8, 2, 1, 1, 8, 7, 8, 2, 2, 6, 1, 3, 9, 5, 6, 4, 2, "
     ]
    }
   ],
   "source": [
    "from numpy.random import *\n",
    "randint(1,10)\n",
    "for i in range(50):\n",
    "    print(randint(1,10),end=\", \")"
   ]
  },
  {
   "cell_type": "code",
   "execution_count": 10,
   "metadata": {},
   "outputs": [
    {
     "name": "stdout",
     "output_type": "stream",
     "text": [
      "0.14112000806\n"
     ]
    },
    {
     "data": {
      "text/plain": [
       "-0.98999249660044542"
      ]
     },
     "execution_count": 10,
     "metadata": {},
     "output_type": "execute_result"
    }
   ],
   "source": [
    "#0302Python正規套件讀入法\n",
    "import numpy\n",
    "import numpy as np\n",
    "print(np.sin(3))#np.sin(3)\n",
    "np.cos(3)"
   ]
  },
  {
   "cell_type": "code",
   "execution_count": 11,
   "metadata": {},
   "outputs": [
    {
     "name": "stdout",
     "output_type": "stream",
     "text": [
      "3.141592653589793\n"
     ]
    },
    {
     "data": {
      "text/plain": [
       "[<matplotlib.lines.Line2D at 0x99873c8>]"
      ]
     },
     "execution_count": 11,
     "metadata": {},
     "output_type": "execute_result"
    },
    {
     "data": {
      "image/png": "[encoded data removed]",
      "text/plain": [
       "<matplotlib.figure.Figure at 0x94e4b38>"
      ]
     },
     "metadata": {},
     "output_type": "display_data"
    }
   ],
   "source": [
    "#0303 數據分析標準動作\n",
    "%matplotlib inline\n",
    "impplt.plot(np.random.randn(100))ort numpy as np\n",
    "import matplotlib.pyplot as plt\n",
    "print(np.pi)#np.pi\n",
    "plt.plot([3,-4,1,5,-2,7,3,-5,6])#示範如何畫圖"
   ]
  },
  {
   "cell_type": "code",
   "execution_count": 12,
   "metadata": {},
   "outputs": [
    {
     "data": {
      "text/plain": [
       "[<matplotlib.lines.Line2D at 0x9b7bcc0>]"
      ]
     },
     "execution_count": 12,
     "metadata": {},
     "output_type": "execute_result"
    },
    {
     "data": {
      "image/png": "[encoded data removed]",
      "text/plain": [
       "<matplotlib.figure.Figure at 0x951aa20>"
      ]
     },
     "metadata": {},
     "output_type": "display_data"
    }
   ],
   "source": [
    "plt.plot(np.random.randn(100))"
   ]
  },
  {
   "cell_type": "code",
   "execution_count": 13,
   "metadata": {},
   "outputs": [
    {
     "name": "stdout",
     "output_type": "stream",
     "text": [
      "33018.195\n",
      "17968.195000000003\n",
      "26998.195000000003\n"
     ]
    },
    {
     "data": {
      "text/plain": [
       "[33018.195, 17968.195000000003, 26998.195000000003]"
      ]
     },
     "execution_count": 13,
     "metadata": {},
     "output_type": "execute_result"
    }
   ],
   "source": [
    "#0304處理一整個list的數字\n",
    "p=[1096.95,596.95,896.95]\t\n",
    "c=30.1\n",
    "for k in p:\n",
    "\tprint(k*c)\n",
    "\n",
    "result=[]\n",
    "for k in p:\n",
    "\ttwd=k*c\n",
    "\tresult.append(twd)\n",
    "result"
   ]
  },
  {
   "cell_type": "code",
   "execution_count": 14,
   "metadata": {},
   "outputs": [
    {
     "data": {
      "text/plain": [
       "array([ 1096.95,   596.95,   896.95])"
      ]
     },
     "execution_count": 14,
     "metadata": {},
     "output_type": "execute_result"
    }
   ],
   "source": [
    "#0305 Array真是太炫了\n",
    "%matplotlib inline\n",
    "import numpy as np\n",
    "import matplotlib.pyplot as plt\n",
    "\n",
    "p=[1096.95,596.95,896.95]\n",
    "c=30.1\n",
    "prices=np.array(p)#把array塞進新的參數裡\n",
    "prices"
   ]
  },
  {
   "cell_type": "code",
   "execution_count": 16,
   "metadata": {},
   "outputs": [
    {
     "name": "stdout",
     "output_type": "stream",
     "text": [
      "[ 1096.95   596.95   896.95]\n"
     ]
    },
    {
     "data": {
      "text/plain": [
       "array([ 33018.195,  17968.195,  26998.195])"
      ]
     },
     "execution_count": 16,
     "metadata": {},
     "output_type": "execute_result"
    }
   ],
   "source": [
    "print(prices)#這樣print才不會出現array\n",
    "prices*c"
   ]
  },
  {
   "cell_type": "code",
   "execution_count": 18,
   "metadata": {},
   "outputs": [
    {
     "data": {
      "text/plain": [
       "array([ 28.5,  32.4,  21. ])"
      ]
     },
     "execution_count": 18,
     "metadata": {},
     "output_type": "execute_result"
    }
   ],
   "source": [
    "#0306 用Array算成績\n",
    "%matplotlib inline\n",
    "import numpy as np\n",
    "import matplotlib.pyplot as plt\n",
    "\n",
    "grades=np.array([95,81,70])\n",
    "weights=np.array([0.3,0.4,0.3])\n",
    "g=grades * weights\n",
    "g\n"
   ]
  },
  {
   "cell_type": "code",
   "execution_count": 19,
   "metadata": {},
   "outputs": [
    {
     "name": "stdout",
     "output_type": "stream",
     "text": [
      "[ 28.5  32.4  21. ]\n"
     ]
    }
   ],
   "source": [
    "print(g)"
   ]
  },
  {
   "cell_type": "code",
   "execution_count": 20,
   "metadata": {},
   "outputs": [
    {
     "data": {
      "text/plain": [
       "81.900000000000006"
      ]
     },
     "execution_count": 20,
     "metadata": {},
     "output_type": "execute_result"
    }
   ],
   "source": [
    "g.sum()"
   ]
  },
  {
   "cell_type": "code",
   "execution_count": 21,
   "metadata": {},
   "outputs": [
    {
     "name": "stdout",
     "output_type": "stream",
     "text": [
      "81.9\n"
     ]
    }
   ],
   "source": [
    "print(g.sum())"
   ]
  },
  {
   "cell_type": "code",
   "execution_count": 22,
   "metadata": {},
   "outputs": [
    {
     "data": {
      "text/plain": [
       "81.900000000000006"
      ]
     },
     "execution_count": 22,
     "metadata": {},
     "output_type": "execute_result"
    }
   ],
   "source": [
    "np.dot(grades,weights)"
   ]
  },
  {
   "cell_type": "code",
   "execution_count": null,
   "metadata": {
    "collapsed": true
   },
   "outputs": [],
   "source": []
  }
 ],
 "metadata": {
  "kernelspec": {
   "display_name": "Python 3",
   "language": "python",
   "name": "python3"
  },
  "language_info": {
   "codemirror_mode": {
    "name": "ipython",
    "version": 3
   },
   "file_extension": ".py",
   "mimetype": "text/x-python",
   "name": "python",
   "nbconvert_exporter": "python",
   "pygments_lexer": "ipython3",
   "version": "3.6.2"
  }
 },
 "nbformat": 4,
 "nbformat_minor": 2
}
